{
 "cells": [
  {
   "cell_type": "code",
   "execution_count": 1,
   "id": "9b0f09a1",
   "metadata": {
    "lines_to_next_cell": 1
   },
   "outputs": [],
   "source": [
    "import hashlib\n",
    "import json\n",
    "from time import time"
   ]
  },
  {
   "cell_type": "code",
   "execution_count": 2,
   "id": "c9494e11",
   "metadata": {
    "lines_to_next_cell": 1
   },
   "outputs": [],
   "source": [
    "class Block:\n",
    "    def __init__(self, index, previous_hash, timestamp, data, hash):\n",
    "        self.index = index\n",
    "        self.previous_hash = previous_hash\n",
    "        self.timestamp = timestamp\n",
    "        self.data = data\n",
    "        self.hash = hash"
   ]
  },
  {
   "cell_type": "code",
   "execution_count": 3,
   "id": "dc219a57",
   "metadata": {
    "lines_to_next_cell": 1
   },
   "outputs": [],
   "source": [
    "def calculate_hash(index, previous_hash, timestamp, data):\n",
    "    value = str(index) + str(previous_hash) + str(timestamp) + json.dumps(data, sort_keys=True)\n",
    "    return hashlib.sha256(value.encode()).hexdigest()"
   ]
  },
  {
   "cell_type": "code",
   "execution_count": 4,
   "id": "710395bf",
   "metadata": {
    "lines_to_next_cell": 1
   },
   "outputs": [],
   "source": [
    "def create_genesis_block():\n",
    "    return Block(0, \"0\", time(), {\"matrix\": None, \"result\": None}, calculate_hash(0, \"0\", time(), {\"matrix\": None, \"result\": None}))"
   ]
  },
  {
   "cell_type": "code",
   "execution_count": 5,
   "id": "989f1157",
   "metadata": {
    "lines_to_next_cell": 1
   },
   "outputs": [],
   "source": [
    "def create_block(index, previous_hash, matrix_a, matrix_b):\n",
    "    timestamp = time()\n",
    "    result_matrix = matrix_multiply(matrix_a, matrix_b)\n",
    "    block_data = {\"matrix\": result_matrix, \"result\": None}\n",
    "    hash_value = calculate_hash(index, previous_hash, timestamp, block_data)\n",
    "    return Block(index, previous_hash, timestamp, block_data, hash_value)"
   ]
  },
  {
   "cell_type": "code",
   "execution_count": 6,
   "id": "d044738c",
   "metadata": {
    "lines_to_next_cell": 1
   },
   "outputs": [],
   "source": [
    "def matrix_multiply(a, b):\n",
    "    result = [[sum(i*j for i, j in zip(row, col)) for col in zip(*b)] for row in a]\n",
    "    return result"
   ]
  },
  {
   "cell_type": "code",
   "execution_count": 7,
   "id": "d13576ed",
   "metadata": {
    "lines_to_next_cell": 1
   },
   "outputs": [],
   "source": [
    "def add_block_to_chain(chain, block):\n",
    "    chain.append(block)"
   ]
  },
  {
   "cell_type": "code",
   "execution_count": 8,
   "id": "6824cd79",
   "metadata": {
    "lines_to_next_cell": 1
   },
   "outputs": [],
   "source": [
    "def display_chain(chain):\n",
    "    for block in chain:\n",
    "        print(\"Index:\", block.index)\n",
    "        print(\"Previous Hash:\", block.previous_hash)\n",
    "        print(\"Timestamp:\", block.timestamp)\n",
    "        print(\"Data:\", block.data)\n",
    "        print(\"Hash:\", block.hash)\n",
    "        print(\"\\n\")\n",
    "def combine_blocks(block1, block2):\n",
    "    combined_data = {\n",
    "        \"matrix_1\": block1.data[\"matrix\"],\n",
    "        \"result_1\": block1.data[\"result\"],\n",
    "        \"matrix_2\": block2.data[\"matrix\"],\n",
    "        \"result_2\": block2.data[\"result\"]\n",
    "    }\n",
    "\n",
    "    combined_block = create_block(block2.index + 1, block1.hash, combined_data[\"matrix_2\"], combined_data[\"matrix_1\"])\n",
    "    return combined_block"
   ]
  },
  {
   "cell_type": "code",
   "execution_count": 9,
   "id": "3a3d14b8",
   "metadata": {},
   "outputs": [
    {
     "name": "stdout",
     "output_type": "stream",
     "text": [
      "Combined Block:\n",
      "Index: 3\n",
      "Previous Hash: c89459f7bae85f9855e20263b6f98e609b4c16fe01ce0350a199b806d04185fc\n",
      "Timestamp: 1709757592.8728921\n",
      "Data: {'matrix': [[17371, 20174], [21015, 24406]], 'result': None}\n",
      "Hash: 4e1c1b2eb319c96302611a9b12f33508d2502910675b7bca7d1a9acf6be064c8\n",
      "Index: 0\n",
      "Previous Hash: 0\n",
      "Timestamp: 1709757592.8728921\n",
      "Data: {'matrix': None, 'result': None}\n",
      "Hash: 4e1a33ccd17f266da14ca32d3dcc595790e479f14d2a7341560dbb52796a05fb\n",
      "\n",
      "\n",
      "Index: 1\n",
      "Previous Hash: 4e1a33ccd17f266da14ca32d3dcc595790e479f14d2a7341560dbb52796a05fb\n",
      "Timestamp: 1709757592.8728921\n",
      "Data: {'matrix': [[19, 22], [43, 50]], 'result': None}\n",
      "Hash: c89459f7bae85f9855e20263b6f98e609b4c16fe01ce0350a199b806d04185fc\n",
      "\n",
      "\n",
      "Index: 2\n",
      "Previous Hash: c89459f7bae85f9855e20263b6f98e609b4c16fe01ce0350a199b806d04185fc\n",
      "Timestamp: 1709757592.8728921\n",
      "Data: {'matrix': [[267, 286], [323, 346]], 'result': None}\n",
      "Hash: 37d4933ae49597c0ac73d0119ab09b9703ea98038eae3debc1eab87fdacd6eb6\n",
      "\n",
      "\n"
     ]
    }
   ],
   "source": [
    "if __name__ == \"__main__\":\n",
    "    # Create Genesis Block\n",
    "    blockchain = [create_genesis_block()]\n",
    "\n",
    "    # Block 1 - Matrix Multiplication\n",
    "    matrix_a1 = [[1, 2], [3, 4]]\n",
    "    matrix_b1 = [[5, 6], [7, 8]]\n",
    "    new_block1 = create_block(blockchain[-1].index + 1, blockchain[-1].hash, matrix_a1, matrix_b1)\n",
    "    add_block_to_chain(blockchain, new_block1)\n",
    "\n",
    "    # Block 2 - Matrix Multiplication\n",
    "    matrix_a2 = [[9, 10], [11, 12]]\n",
    "    matrix_b2 = [[13, 14], [15, 16]]\n",
    "    new_block2 = create_block(blockchain[-1].index + 1, blockchain[-1].hash, matrix_a2, matrix_b2)\n",
    "    add_block_to_chain(blockchain, new_block2)\n",
    "\n",
    "    # Combine the last two blocks in the blockchain\n",
    "    combined_block = combine_blocks(blockchain[-2], blockchain[-1])\n",
    "\n",
    "    # Display the combined block\n",
    "    print(\"Combined Block:\")\n",
    "    print(\"Index:\", combined_block.index)\n",
    "    print(\"Previous Hash:\", combined_block.previous_hash)\n",
    "    print(\"Timestamp:\", combined_block.timestamp)\n",
    "    print(\"Data:\", combined_block.data)\n",
    "    print(\"Hash:\", combined_block.hash)\n",
    "\n",
    "    # Display the entire blockchain\n",
    "    display_chain(blockchain)"
   ]
  }
 ],
 "metadata": {
  "jupytext": {
   "cell_metadata_filter": "-all",
   "main_language": "python",
   "notebook_metadata_filter": "-all"
  },
  "kernelspec": {
   "display_name": "base",
   "language": "python",
   "name": "python3"
  },
  "language_info": {
   "codemirror_mode": {
    "name": "ipython",
    "version": 3
   },
   "file_extension": ".py",
   "mimetype": "text/x-python",
   "name": "python",
   "nbconvert_exporter": "python",
   "pygments_lexer": "ipython3",
   "version": "3.11.5"
  }
 },
 "nbformat": 4,
 "nbformat_minor": 5
}
