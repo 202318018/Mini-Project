{
 "cells": [
  {
   "cell_type": "code",
   "execution_count": 1,
   "id": "fa3a4b23",
   "metadata": {
    "lines_to_next_cell": 1
   },
   "outputs": [
    {
     "name": "stderr",
     "output_type": "stream",
     "text": [
      "ERROR: Could not find a version that satisfies the requirement Pyphel (from versions: none)\n",
      "ERROR: No matching distribution found for Pyphel\n"
     ]
    },
    {
     "ename": "ModuleNotFoundError",
     "evalue": "No module named 'pyfhel'",
     "output_type": "error",
     "traceback": [
      "\u001b[1;31m---------------------------------------------------------------------------\u001b[0m",
      "\u001b[1;31mModuleNotFoundError\u001b[0m                       Traceback (most recent call last)",
      "Cell \u001b[1;32mIn[1], line 2\u001b[0m\n\u001b[0;32m      1\u001b[0m get_ipython()\u001b[38;5;241m.\u001b[39msystem(\u001b[38;5;124m'\u001b[39m\u001b[38;5;124m pip install Pyphel\u001b[39m\u001b[38;5;124m'\u001b[39m)\n\u001b[1;32m----> 2\u001b[0m \u001b[38;5;28;01mfrom\u001b[39;00m \u001b[38;5;21;01mpyfhel\u001b[39;00m \u001b[38;5;28;01mimport\u001b[39;00m Pyfhel\n\u001b[0;32m      3\u001b[0m \u001b[38;5;28;01mimport\u001b[39;00m \u001b[38;5;21;01mnumpy\u001b[39;00m \u001b[38;5;28;01mas\u001b[39;00m \u001b[38;5;21;01mnp\u001b[39;00m\n",
      "\u001b[1;31mModuleNotFoundError\u001b[0m: No module named 'pyfhel'"
     ]
    }
   ],
   "source": [
    "! pip install Pyphel\n",
    "from pyfhel import Pyfhel\n",
    "import numpy as np"
   ]
  },
  {
   "cell_type": "code",
   "execution_count": 2,
   "id": "74a24d91",
   "metadata": {
    "lines_to_next_cell": 1
   },
   "outputs": [],
   "source": [
    "def generate_matrix_encryption(context, pk, matrix):\n",
    "    encrypted_matrix = []\n",
    "    for row in matrix:\n",
    "        encrypted_row = [pk.encrypt(element) for element in row]\n",
    "        encrypted_matrix.append(encrypted_row)\n",
    "    return encrypted_matrix"
   ]
  },
  {
   "cell_type": "code",
   "execution_count": 3,
   "id": "c275e458",
   "metadata": {
    "lines_to_next_cell": 1
   },
   "outputs": [],
   "source": [
    "def matrix_multiply(node_id, encrypted_matrix_a, encrypted_matrix_b):\n",
    "    # Perform matrix multiplication for a specific node\n",
    "    result_matrix = [[0 for _ in range(len(encrypted_matrix_b[0]))] for _ in range(len(encrypted_matrix_a))]\n",
    "    for i in range(len(encrypted_matrix_a)):\n",
    "        for j in range(len(encrypted_matrix_b[0])):\n",
    "            for k in range(len(encrypted_matrix_b)):\n",
    "                result_matrix[i][j] += encrypted_matrix_a[i][k] * encrypted_matrix_b[k][j]\n",
    "\n",
    "    return result_matrix"
   ]
  },
  {
   "cell_type": "code",
   "execution_count": 6,
   "id": "ecc7566c",
   "metadata": {
    "lines_to_next_cell": 1
   },
   "outputs": [],
   "source": [
    "def homomorphic_matrix_multiplication():\n",
    "    # Initialize context\n",
    "    context = Pyfhel()\n",
    "\n",
    "    # Generate public and secret keys\n",
    "    pk, sk = context.keygen()\n",
    "\n",
    "    # Define matrices for four nodes\n",
    "    matrix_a = np.array([[1, 2], [3, 4]])\n",
    "    matrix_b = np.array([[5, 6], [7, 8]])\n",
    "\n",
    "    # Split matrices into four parts (for demonstration purposes)\n",
    "    nodes_matrices_a = np.split(matrix_a, 2)\n",
    "    nodes_matrices_b = np.split(matrix_b, 2)\n",
    "\n",
    "    # Encrypt matrices for each node\n",
    "    encrypted_matrices_a = [generate_matrix_encryption(context, pk, node_matrix) for node_matrix in nodes_matrices_a]\n",
    "    encrypted_matrices_b = [generate_matrix_encryption(context, pk, node_matrix) for node_matrix in nodes_matrices_b]\n",
    "\n",
    "    # Perform matrix multiplication for each node\n",
    "    result_matrices = [matrix_multiply(i, encrypted_matrices_a[i], encrypted_matrices_b[i]) for i in range(2)]\n",
    "\n",
    "    # Combine results from all nodes\n",
    "    final_result = np.concatenate(result_matrices, axis=1)\n",
    "\n",
    "    # Decrypt the result\n",
    "    decrypted_result = [[sk.decrypt(element) for element in row] for row in final_result]\n",
    "\n",
    "    print(\"Matrix A:\")\n",
    "    print(matrix_a)\n",
    "    print(\"\\nMatrix B:\")\n",
    "    print(matrix_b)\n",
    "    print(\"\\nEncrypted Result (Matrix Multiplication):\")\n",
    "    print(final_result)\n",
    "    print(\"\\nDecrypted Result:\")\n",
    "    print(decrypted_result)"
   ]
  },
  {
   "cell_type": "code",
   "execution_count": 7,
   "id": "3354869a",
   "metadata": {},
   "outputs": [
    {
     "ename": "NameError",
     "evalue": "name 'Pyfhel' is not defined",
     "output_type": "error",
     "traceback": [
      "\u001b[1;31m---------------------------------------------------------------------------\u001b[0m",
      "\u001b[1;31mNameError\u001b[0m                                 Traceback (most recent call last)",
      "Cell \u001b[1;32mIn[7], line 2\u001b[0m\n\u001b[0;32m      1\u001b[0m \u001b[38;5;28;01mif\u001b[39;00m \u001b[38;5;18m__name__\u001b[39m \u001b[38;5;241m==\u001b[39m \u001b[38;5;124m\"\u001b[39m\u001b[38;5;124m__main__\u001b[39m\u001b[38;5;124m\"\u001b[39m:\n\u001b[1;32m----> 2\u001b[0m     homomorphic_matrix_multiplication()\n",
      "Cell \u001b[1;32mIn[6], line 3\u001b[0m, in \u001b[0;36mhomomorphic_matrix_multiplication\u001b[1;34m()\u001b[0m\n\u001b[0;32m      1\u001b[0m \u001b[38;5;28;01mdef\u001b[39;00m \u001b[38;5;21mhomomorphic_matrix_multiplication\u001b[39m():\n\u001b[0;32m      2\u001b[0m     \u001b[38;5;66;03m# Initialize context\u001b[39;00m\n\u001b[1;32m----> 3\u001b[0m     context \u001b[38;5;241m=\u001b[39m Pyfhel()\n\u001b[0;32m      5\u001b[0m     \u001b[38;5;66;03m# Generate public and secret keys\u001b[39;00m\n\u001b[0;32m      6\u001b[0m     pk, sk \u001b[38;5;241m=\u001b[39m context\u001b[38;5;241m.\u001b[39mkeygen()\n",
      "\u001b[1;31mNameError\u001b[0m: name 'Pyfhel' is not defined"
     ]
    }
   ],
   "source": [
    "if __name__ == \"__main__\":\n",
    "    homomorphic_matrix_multiplication()"
   ]
  }
 ],
 "metadata": {
  "jupytext": {
   "cell_metadata_filter": "-all",
   "main_language": "python",
   "notebook_metadata_filter": "-all"
  },
  "kernelspec": {
   "display_name": "base",
   "language": "python",
   "name": "python3"
  },
  "language_info": {
   "codemirror_mode": {
    "name": "ipython",
    "version": 3
   },
   "file_extension": ".py",
   "mimetype": "text/x-python",
   "name": "python",
   "nbconvert_exporter": "python",
   "pygments_lexer": "ipython3",
   "version": "3.11.5"
  }
 },
 "nbformat": 4,
 "nbformat_minor": 5
}
