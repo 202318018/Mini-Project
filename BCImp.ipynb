{
 "cells": [
  {
   "cell_type": "code",
   "execution_count": null,
   "metadata": {},
   "outputs": [],
   "source": [
    "#Aditya Tripathi, Anurag Choudhury, Karan Sharma\n",
    "#2023 180 46, 2023 180 59, 2023 180 18\n",
    "#MSc DS (Sem2)"
   ]
  }
 ],
 "metadata": {
  "language_info": {
   "name": "python"
  }
 },
 "nbformat": 4,
 "nbformat_minor": 2
}
