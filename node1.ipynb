{
 "cells": [
  {
   "cell_type": "code",
   "execution_count": 1,
   "id": "961430de",
   "metadata": {},
   "outputs": [],
   "source": [
    "# Aditya Tripathi, Anurag Choudhury, Karan Sharma\n",
    "# 2023 180 46, 2023 180 59, 2023 180 18\n",
    "# MSc DS (Sem2)\n",
    "import json\n",
    "import socket\n",
    "import threading\n",
    "import numpy as np"
   ]
  },
  {
   "cell_type": "code",
   "execution_count": 2,
   "id": "29291ecb",
   "metadata": {
    "lines_to_next_cell": 1
   },
   "outputs": [],
   "source": [
    "def send_message(target_address, message):\n",
    "    try:\n",
    "        client_socket = socket.socket(socket.AF_INET, socket.SOCK_STREAM)\n",
    "        client_socket.connect(target_address)\n",
    "        client_socket.send(json.dumps(message).encode('utf-8'))\n",
    "        client_socket.close()\n",
    "    except ConnectionRefusedError:\n",
    "        print(f\"Could not connect to {target_address}\")\n",
    "def matrix_multiply_part(matrix_part, other_matrix, result_shape):\n",
    "    result_part = np.dot(matrix_part, other_matrix)\n",
    "    return result_part.tolist()\n",
    "def handle_client(client_socket, matrix_part, other_matrix, result_shape):\n",
    "    data = client_socket.recv(1024).decode('utf-8')\n",
    "\n",
    "    try:\n",
    "        message = json.loads(data)\n",
    "        if message['type'] == 'compute':\n",
    "            result_part = matrix_multiply_part(matrix_part, other_matrix, result_shape)\n",
    "            send_message((message['host'], message['port']), {'type': 'result', 'data': result_part})\n",
    "    except json.JSONDecodeError:\n",
    "        print(\"Invalid JSON received.\")\n",
    "\n",
    "    client_socket.close()"
   ]
  },
  {
   "cell_type": "code",
   "execution_count": 4,
   "id": "3e29d908",
   "metadata": {},
   "outputs": [
    {
     "name": "stdout",
     "output_type": "stream",
     "text": [
      "Node listening on localhost:5000\n"
     ]
    }
   ],
   "source": [
    "host = 'localhost'\n",
    "port = 5000\n",
    "\n",
    "matrix_part = np.array([[1, 2], [3, 4]])\n",
    "other_matrix = np.array([[5, 6], [7, 8]])\n",
    "result_shape = (2, 2)\n",
    "\n",
    "server = socket.socket(socket.AF_INET, socket.SOCK_STREAM)\n",
    "server.bind((host, port))\n",
    "server.listen(5)\n",
    "\n",
    "print(f\"Node listening on {host}:{port}\")\n",
    "\n",
    "while True:\n",
    "    client_socket, addr = server.accept()\n",
    "    client_thread = threading.Thread(target=handle_client, args=(client_socket, matrix_part, other_matrix, result_shape))\n",
    "    client_thread.start()"
   ]
  }
 ],
 "metadata": {
  "jupytext": {
   "cell_metadata_filter": "-all",
   "main_language": "python",
   "notebook_metadata_filter": "-all"
  },
  "kernelspec": {
   "display_name": "Python 3",
   "language": "python",
   "name": "python3"
  },
  "language_info": {
   "codemirror_mode": {
    "name": "ipython",
    "version": 3
   },
   "file_extension": ".py",
   "mimetype": "text/x-python",
   "name": "python",
   "nbconvert_exporter": "python",
   "pygments_lexer": "ipython3",
   "version": "3.12.2"
  }
 },
 "nbformat": 4,
 "nbformat_minor": 5
}
