{
 "cells": [
  {
   "cell_type": "code",
   "execution_count": 1,
   "metadata": {},
   "outputs": [],
   "source": [
    "#Aditya Tripathi, Anurag Choudhury, Karan Sharma\n",
    "#2023 180 46, 2023 180 59, 2023 180 18\n",
    "#MSc DS (Sem2)\n",
    "import hashlib"
   ]
  },
  {
   "cell_type": "code",
   "execution_count": 8,
   "metadata": {},
   "outputs": [
    {
     "name": "stdout",
     "output_type": "stream",
     "text": [
      "Block Hash:  b8807cd1bc4f06790cc4f3cbda8f6fdc8d779b2f3dc768c170a15bf807d4b3d8\n",
      "Block Data:  Initial Block\n",
      "Previous Hash:  0\n",
      "-------------------------\n",
      "Block Hash:  e928ce20beddf41526cc7872c260a711916365a25ce1377481f8924b9a96d884\n",
      "Block Data:  Result of [[1, 2], [3, 4]] * [[5, 6], [7, 8]] = [[19, 22], [43, 50]]\n",
      "Previous Hash:  b8807cd1bc4f06790cc4f3cbda8f6fdc8d779b2f3dc768c170a15bf807d4b3d8\n",
      "-------------------------\n"
     ]
    }
   ],
   "source": [
    "class Block:\n",
    "    def __init__(self, transaction, previous_hash):\n",
    "        self.transaction = transaction\n",
    "        self.previous_hash = previous_hash\n",
    "        self.block_data = transaction\n",
    "        self.block_hash = hashlib.sha256(self.block_data.encode()).hexdigest()\n",
    "\n",
    "def multiply_matrices(matrix_a, matrix_b):\n",
    "    result = [[0, 0], [0, 0]]\n",
    "    for i in range(2):\n",
    "        for j in range(2):\n",
    "            for k in range(2):\n",
    "                result[i][j] += matrix_a[i][k] * matrix_b[k][j]\n",
    "    return result\n",
    "\n",
    "blockchain = [Block(\"Initial Block\", \"0\")]\n",
    "\n",
    "matrix_a = [[1, 2], [3, 4]]\n",
    "matrix_b = [[5, 6], [7, 8]]\n",
    "\n",
    "result_matrix = multiply_matrices(matrix_a, matrix_b)\n",
    "\n",
    "transaction = \"Result of \" + str(matrix_a) + \" * \" + str(matrix_b) + \" = \" + str(result_matrix)\n",
    "blockchain.append(Block(transaction, blockchain[-1].block_hash))\n",
    "\n",
    "for block in blockchain:\n",
    "    print(\"Block Hash: \", block.block_hash)\n",
    "    print(\"Block Data: \", block.block_data)\n",
    "    print(\"Previous Hash: \", block.previous_hash)\n",
    "    print(\"-------------------------\")"
   ]
  }
 ],
 "metadata": {
  "kernelspec": {
   "display_name": "Python 3",
   "language": "python",
   "name": "python3"
  },
  "language_info": {
   "codemirror_mode": {
    "name": "ipython",
    "version": 3
   },
   "file_extension": ".py",
   "mimetype": "text/x-python",
   "name": "python",
   "nbconvert_exporter": "python",
   "pygments_lexer": "ipython3",
   "version": "3.12.1"
  }
 },
 "nbformat": 4,
 "nbformat_minor": 2
}
