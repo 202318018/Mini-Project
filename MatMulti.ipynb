{
 "cells": [
  {
   "cell_type": "code",
   "execution_count": 2,
   "metadata": {},
   "outputs": [],
   "source": [
    "#Aditya Tripathi, Anurag Choudhury, Karan Sharma\n",
    "#2023 180 46, 2023 180 59, 2023 180 18\n",
    "#MSc DS (Sem2)\n",
    "import time\n",
    "import hashlib"
   ]
  },
  {
   "cell_type": "code",
   "execution_count": 3,
   "metadata": {},
   "outputs": [
    {
     "name": "stdout",
     "output_type": "stream",
     "text": [
      "Block Hash:  b8807cd1bc4f06790cc4f3cbda8f6fdc8d779b2f3dc768c170a15bf807d4b3d8\n",
      "Block Data:  Initial Block\n",
      "Previous Hash:  0\n",
      "-------------------------\n",
      "Block Hash:  e928ce20beddf41526cc7872c260a711916365a25ce1377481f8924b9a96d884\n",
      "Block Data:  Result of [[1, 2], [3, 4]] * [[5, 6], [7, 8]] = [[19, 22], [43, 50]]\n",
      "Previous Hash:  b8807cd1bc4f06790cc4f3cbda8f6fdc8d779b2f3dc768c170a15bf807d4b3d8\n",
      "-------------------------\n"
     ]
    }
   ],
   "source": [
    "class Block:\n",
    "    def __init__(self, transaction, previous_hash):\n",
    "        self.transaction = transaction\n",
    "        self.previous_hash = previous_hash\n",
    "        self.block_data = transaction\n",
    "        self.block_hash = hashlib.sha256(self.block_data.encode()).hexdigest()\n",
    "\n",
    "def multiply_matrices(matrix_a, matrix_b):\n",
    "    result = [[0, 0], [0, 0]]\n",
    "    for i in range(2):\n",
    "        for j in range(2):\n",
    "            for k in range(2):\n",
    "                result[i][j] += matrix_a[i][k] * matrix_b[k][j]\n",
    "    return result\n",
    "\n",
    "blockchain = [Block(\"Initial Block\", \"0\")]\n",
    "\n",
    "matrix_a = [[1, 2], [3, 4]]\n",
    "matrix_b = [[5, 6], [7, 8]]\n",
    "\n",
    "result_matrix = multiply_matrices(matrix_a, matrix_b)\n",
    "\n",
    "transaction = \"Result of \" + str(matrix_a) + \" * \" + str(matrix_b) + \" = \" + str(result_matrix)\n",
    "blockchain.append(Block(transaction, blockchain[-1].block_hash))\n",
    "\n",
    "for block in blockchain:\n",
    "    print(\"Block Hash: \", block.block_hash)\n",
    "    print(\"Block Data: \", block.block_data)\n",
    "    print(\"Previous Hash: \", block.previous_hash)\n",
    "    print(\"-------------------------\")"
   ]
  },
  {
   "cell_type": "code",
   "execution_count": 62,
   "metadata": {},
   "outputs": [
    {
     "name": "stdout",
     "output_type": "stream",
     "text": [
      "Time: 2332600\n",
      "A:\n",
      "[1, 2, 3, 4, 5, 6]\n",
      "[7, 8, 9, 10, 11, 12]\n",
      "[13, 14, 15, 16, 17, 18]\n",
      "[19, 20, 21, 22, 23, 24]\n",
      "[25, 26, 27, 28, 29, 30]\n",
      "[31, 32, 33, 34, 35, 36]\n",
      "\n",
      "B:\n",
      "[36, 35, 34, 33, 32, 31]\n",
      "[30, 29, 28, 27, 26, 25]\n",
      "[24, 23, 22, 21, 20, 19]\n",
      "[18, 17, 16, 15, 14, 13]\n",
      "[12, 11, 10, 9, 8, 7]\n",
      "[6, 5, 4, 3, 2, 1]\n",
      "\n",
      "Result:\n",
      "[336, 315, 294, 273, 252, 231]\n",
      "[1092, 1035, 978, 921, 864, 807]\n",
      "[1848, 1755, 1662, 1569, 1476, 1383]\n",
      "[2604, 2475, 2346, 2217, 2088, 1959]\n",
      "[3360, 3195, 3030, 2865, 2700, 2535]\n",
      "[4116, 3915, 3714, 3513, 3312, 3111]\n"
     ]
    }
   ],
   "source": [
    "#Without numpy\n",
    "def block_multi(A, B, block_size):\n",
    "    if len(A[0]) == len(B):\n",
    "        result = [[0 for number in range(len(B[0]))] for number in range(len(A))]\n",
    "        for i in range(0, len(A), block_size):\n",
    "            for j in range(0, len(B[0]), block_size):\n",
    "                for k in range(0, len(B), block_size):\n",
    "                    for ii in range(i, min(i + block_size, len(A))):\n",
    "                        for jj in range(j, min(j + block_size, len(B[0]))):\n",
    "                            for kk in range(k, min(k + block_size, len(B))):\n",
    "                                result[ii][jj] += A[ii][kk] * B[kk][jj]\n",
    "        return result\n",
    "    else:\n",
    "        print(\"Matrix cannot be multiplied because of difference in sizes\")\n",
    "block_size = 4\n",
    "A = [[1, 2, 3, 4, 5, 6], [7, 8, 9, 10, 11, 12], [13, 14, 15, 16, 17, 18], [19, 20, 21, 22, 23, 24], [25, 26, 27, 28, 29, 30], [31, 32, 33, 34, 35, 36]]\n",
    "B = [[36, 35, 34, 33, 32, 31], [30, 29, 28, 27, 26, 25], [24, 23, 22, 21, 20, 19], [ 18, 17, 16, 15, 14, 13], [12, 11, 10, 9, 8, 7], [6, 5, 4, 3, 2, 1]]\n",
    "start = time.time_ns()\n",
    "result = block_multi(A, B, block_size)\n",
    "end = time.time_ns()\n",
    "print(\"Time:\", end-start)\n",
    "print(\"A:\")\n",
    "for row in A:\n",
    "    print(row)\n",
    "print(\"\\nB:\")\n",
    "for row in B:\n",
    "    print(row)\n",
    "print(\"\\nResult:\")\n",
    "for row in result:\n",
    "    print(row)"
   ]
  }
 ],
 "metadata": {
  "kernelspec": {
   "display_name": "Python 3",
   "language": "python",
   "name": "python3"
  },
  "language_info": {
   "codemirror_mode": {
    "name": "ipython",
    "version": 3
   },
   "file_extension": ".py",
   "mimetype": "text/x-python",
   "name": "python",
   "nbconvert_exporter": "python",
   "pygments_lexer": "ipython3",
   "version": "3.12.1"
  }
 },
 "nbformat": 4,
 "nbformat_minor": 2
}
