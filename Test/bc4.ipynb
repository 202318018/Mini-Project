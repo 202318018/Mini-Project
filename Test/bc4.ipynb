{
 "cells": [
  {
   "cell_type": "code",
   "execution_count": 1,
   "id": "17ddbc0c",
   "metadata": {
    "lines_to_next_cell": 1
   },
   "outputs": [],
   "source": [
    "import hashlib\n",
    "import json\n",
    "from time import time"
   ]
  },
  {
   "cell_type": "code",
   "execution_count": 2,
   "id": "aa4ed4d5",
   "metadata": {
    "lines_to_next_cell": 1
   },
   "outputs": [],
   "source": [
    "class Block:\n",
    "    def __init__(self, index, previous_hash, timestamp, data, hash):\n",
    "        self.index = index\n",
    "        self.previous_hash = previous_hash\n",
    "        self.timestamp = timestamp\n",
    "        self.data = data\n",
    "        self.hash = hash"
   ]
  },
  {
   "cell_type": "code",
   "execution_count": 3,
   "id": "74294286",
   "metadata": {
    "lines_to_next_cell": 1
   },
   "outputs": [],
   "source": [
    "def calculate_hash(index, previous_hash, timestamp, data):\n",
    "    value = str(index) + str(previous_hash) + str(timestamp) + json.dumps(data, sort_keys=True)\n",
    "    return hashlib.sha256(value.encode()).hexdigest()"
   ]
  },
  {
   "cell_type": "code",
   "execution_count": 4,
   "id": "c6067b56",
   "metadata": {
    "lines_to_next_cell": 1
   },
   "outputs": [],
   "source": [
    "def create_genesis_block():\n",
    "    # Genesis block has index 0 and arbitrary previous hash\n",
    "    return Block(0, \"0\", time(), {\"matrix\": None, \"result\": None}, calculate_hash(0, \"0\", time(), {\"matrix\": None, \"result\": None}))"
   ]
  },
  {
   "cell_type": "code",
   "execution_count": 5,
   "id": "974d9147",
   "metadata": {
    "lines_to_next_cell": 1
   },
   "outputs": [],
   "source": [
    "def create_block(index, previous_hash, data):\n",
    "    timestamp = time()\n",
    "    hash_value = calculate_hash(index, previous_hash, timestamp, data)\n",
    "    return Block(index, previous_hash, timestamp, data, hash_value)"
   ]
  },
  {
   "cell_type": "code",
   "execution_count": 6,
   "id": "c5f6ff1d",
   "metadata": {
    "lines_to_next_cell": 1
   },
   "outputs": [],
   "source": [
    "def matrix_multiply(a, b):\n",
    "    result = [[sum(i*j for i, j in zip(row, col)) for col in zip(*b)] for row in a]\n",
    "    return result"
   ]
  },
  {
   "cell_type": "code",
   "execution_count": 7,
   "id": "e28d9b99",
   "metadata": {
    "lines_to_next_cell": 1
   },
   "outputs": [],
   "source": [
    "def add_block_to_chain(chain, block):\n",
    "    chain.append(block)"
   ]
  },
  {
   "cell_type": "code",
   "execution_count": 8,
   "id": "8df42854",
   "metadata": {
    "lines_to_next_cell": 1
   },
   "outputs": [],
   "source": [
    "def display_chain(chain):\n",
    "    for block in chain:\n",
    "        print(\"Index:\", block.index)\n",
    "        print(\"Previous Hash:\", block.previous_hash)\n",
    "        print(\"Timestamp:\", block.timestamp)\n",
    "        print(\"Data:\", block.data)\n",
    "        print(\"Hash:\", block.hash)\n",
    "        print(\"\\n\")"
   ]
  },
  {
   "cell_type": "code",
   "execution_count": 9,
   "id": "911c329a",
   "metadata": {},
   "outputs": [
    {
     "name": "stdout",
     "output_type": "stream",
     "text": [
      "Index: 0\n",
      "Previous Hash: 0\n",
      "Timestamp: 1709757544.8722246\n",
      "Data: {'matrix': None, 'result': None}\n",
      "Hash: eaf20300ffd083849b43e3615aa0a33bb5af1ce0ca68fad01b53b319c027ef8d\n",
      "\n",
      "\n",
      "Index: 1\n",
      "Previous Hash: eaf20300ffd083849b43e3615aa0a33bb5af1ce0ca68fad01b53b319c027ef8d\n",
      "Timestamp: 1709757544.8722246\n",
      "Data: {'matrix': [[19, 22], [43, 50]], 'result': None}\n",
      "Hash: c4a84e519175053fd15d6445093b76ebc892301aec587b5ac987f12f323357fe\n",
      "\n",
      "\n",
      "Index: 2\n",
      "Previous Hash: c4a84e519175053fd15d6445093b76ebc892301aec587b5ac987f12f323357fe\n",
      "Timestamp: 1709757544.8722246\n",
      "Data: {'matrix': [[267, 286], [323, 346]], 'result': None}\n",
      "Hash: 1a4e3056d4766a9b344bd8260f7aad092e16c588ac8fb2592031cd1cf118c538\n",
      "\n",
      "\n",
      "Index: 3\n",
      "Previous Hash: 1a4e3056d4766a9b344bd8260f7aad092e16c588ac8fb2592031cd1cf118c538\n",
      "Timestamp: 1709757544.8722246\n",
      "Data: {'matrix': [[306, 208], [173, 76]], 'result': None}\n",
      "Hash: e7f59e423823b6d5fd9b974d91cd35a3945c880de00ffc3ac999ab08b225cdd7\n",
      "\n",
      "\n",
      "Index: 4\n",
      "Previous Hash: e7f59e423823b6d5fd9b974d91cd35a3945c880de00ffc3ac999ab08b225cdd7\n",
      "Timestamp: 1709757544.8722246\n",
      "Data: {'matrix': [[16, 68], [5, 16]], 'result': None}\n",
      "Hash: d376e292b86c8a98a7bc67491f93b1b1a98e4b6b0d9c0ccec0fdc0d61c9275d1\n",
      "\n",
      "\n"
     ]
    }
   ],
   "source": [
    "if __name__ == \"__main__\":\n",
    "    # Create Genesis Block\n",
    "    blockchain = [create_genesis_block()]\n",
    "\n",
    "    # Sample matrices for multiplication\n",
    "    matrix_a = [[1, 2], [3, 4]]\n",
    "    matrix_b = [[5, 6], [7, 8]]\n",
    "\n",
    "    # Perform matrix multiplication and add result to the blockchain\n",
    "    result_matrix = matrix_multiply(matrix_a, matrix_b)\n",
    "    block_data = {\"matrix\": result_matrix, \"result\": None}\n",
    "    new_block = create_block(blockchain[-1].index + 1, blockchain[-1].hash, block_data)\n",
    "    blockchain.append(new_block)\n",
    "\n",
    "    # Display the blockchain\n",
    "    matrix_a2 = [[9, 10], [11, 12]]\n",
    "    matrix_b2 = [[13, 14], [15, 16]]\n",
    "\n",
    "    # Perform the second matrix multiplication and add the result to the blockchain\n",
    "    result_matrix2 = matrix_multiply(matrix_a2, matrix_b2)\n",
    "    block_data2 = {\"matrix\": result_matrix2, \"result\": None}\n",
    "    new_block2 = create_block(blockchain[-1].index + 1, blockchain[-1].hash, block_data2)\n",
    "    add_block_to_chain(blockchain, new_block2)\n",
    "\n",
    "    matrix_a3 = [[12, 10], [11, 2]]\n",
    "    matrix_b3 = [[13, 4], [15, 16]]\n",
    "\n",
    "    # Perform the second matrix multiplication and add the result to the blockchain\n",
    "    result_matrix3 = matrix_multiply(matrix_a3, matrix_b3)\n",
    "    block_data3 = {\"matrix\": result_matrix3, \"result\": None}\n",
    "    new_block3 = create_block(blockchain[-1].index + 1, blockchain[-1].hash, block_data3)\n",
    "    add_block_to_chain(blockchain, new_block3)\n",
    "\n",
    "    matrix_a4 = [[2, 10], [1, 2]]\n",
    "    matrix_b4 = [[3, 4], [1, 6]]\n",
    "\n",
    "    # Perform the second matrix multiplication and add the result to the blockchain\n",
    "    result_matrix4 = matrix_multiply(matrix_a4, matrix_b4)\n",
    "    block_data4 = {\"matrix\": result_matrix4, \"result\": None}\n",
    "    new_block4 = create_block(blockchain[-1].index + 1, blockchain[-1].hash, block_data4)\n",
    "    add_block_to_chain(blockchain, new_block4)\n",
    "    # Display the blockchain after the second multiplication\n",
    "    display_chain(blockchain)"
   ]
  }
 ],
 "metadata": {
  "jupytext": {
   "cell_metadata_filter": "-all",
   "main_language": "python",
   "notebook_metadata_filter": "-all"
  },
  "kernelspec": {
   "display_name": "base",
   "language": "python",
   "name": "python3"
  },
  "language_info": {
   "codemirror_mode": {
    "name": "ipython",
    "version": 3
   },
   "file_extension": ".py",
   "mimetype": "text/x-python",
   "name": "python",
   "nbconvert_exporter": "python",
   "pygments_lexer": "ipython3",
   "version": "3.11.5"
  }
 },
 "nbformat": 4,
 "nbformat_minor": 5
}
