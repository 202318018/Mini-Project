{
 "cells": [
  {
   "cell_type": "code",
   "execution_count": 1,
   "id": "f254d06f",
   "metadata": {
    "lines_to_next_cell": 1
   },
   "outputs": [],
   "source": [
    "import hashlib\n",
    "class Block:\n",
    "    def __init__(self, transaction, previous_hash):\n",
    "        self.transaction = transaction\n",
    "        self.previous_hash = previous_hash\n",
    "        self.block_data = transaction\n",
    "        self.block_hash = hashlib.sha512(self.block_data.encode()).hexdigest()"
   ]
  },
  {
   "cell_type": "code",
   "execution_count": 2,
   "id": "0b602e7b",
   "metadata": {
    "lines_to_next_cell": 1
   },
   "outputs": [],
   "source": [
    "def multiply_matrices(matrix_a, matrix_b):\n",
    "    result = [[0, 0], [0, 0]]\n",
    "    for i in range(2):\n",
    "        for j in range(2):\n",
    "            for k in range(2):\n",
    "                result[i][j] += matrix_a[i][k] * matrix_b[k][j]\n",
    "    return result"
   ]
  },
  {
   "cell_type": "code",
   "execution_count": 3,
   "id": "b7d19e7e",
   "metadata": {},
   "outputs": [],
   "source": [
    "blockchain = [Block(\"Initial Block\", \"0\")]"
   ]
  },
  {
   "cell_type": "code",
   "execution_count": 4,
   "id": "8aed0af7",
   "metadata": {},
   "outputs": [],
   "source": [
    "matrix_a = [[1, 2], [3, 4]]\n",
    "matrix_b = [[5, 6], [7, 8]]"
   ]
  },
  {
   "cell_type": "code",
   "execution_count": 5,
   "id": "50d8d57f",
   "metadata": {},
   "outputs": [],
   "source": [
    "result_matrix = multiply_matrices(matrix_a, matrix_b)"
   ]
  },
  {
   "cell_type": "code",
   "execution_count": 6,
   "id": "5f388034",
   "metadata": {},
   "outputs": [],
   "source": [
    "transaction = \"Result of \" + str(matrix_a) + \" * \" + str(matrix_b) + \" = \" + str(result_matrix)\n",
    "blockchain.append(Block(transaction, blockchain[-1].block_hash))"
   ]
  },
  {
   "cell_type": "code",
   "execution_count": 7,
   "id": "7b4ebd1d",
   "metadata": {},
   "outputs": [
    {
     "name": "stdout",
     "output_type": "stream",
     "text": [
      "Block Hash:  07c7fb6f140322a91636fcb27a814fe56b82ae3c44a1fed5ed62e091fab79b2bd0569c5528fa02a11c181797e3c2481b324fc72f3ea359ddf65d763d983a6ccc\n",
      "Block Data:  Initial Block\n",
      "Previous Hash:  0\n",
      "-------------------------\n",
      "Block Hash:  562764aa1c0480d5461e10d7d635e4c24a0cb673c3a9926c0604e41b658d684be9cba9c16106b4216d6e3f1d5c1e11b715c77af95eb2f53a94098edd055f13aa\n",
      "Block Data:  Result of [[1, 2], [3, 4]] * [[5, 6], [7, 8]] = [[19, 22], [43, 50]]\n",
      "Previous Hash:  07c7fb6f140322a91636fcb27a814fe56b82ae3c44a1fed5ed62e091fab79b2bd0569c5528fa02a11c181797e3c2481b324fc72f3ea359ddf65d763d983a6ccc\n",
      "-------------------------\n"
     ]
    }
   ],
   "source": [
    "for block in blockchain:\n",
    "    print(\"Block Hash: \", block.block_hash)\n",
    "    print(\"Block Data: \", block.block_data)\n",
    "    print(\"Previous Hash: \", block.previous_hash)\n",
    "    print(\"-------------------------\")"
   ]
  }
 ],
 "metadata": {
  "jupytext": {
   "cell_metadata_filter": "-all",
   "main_language": "python",
   "notebook_metadata_filter": "-all"
  },
  "kernelspec": {
   "display_name": "base",
   "language": "python",
   "name": "python3"
  },
  "language_info": {
   "codemirror_mode": {
    "name": "ipython",
    "version": 3
   },
   "file_extension": ".py",
   "mimetype": "text/x-python",
   "name": "python",
   "nbconvert_exporter": "python",
   "pygments_lexer": "ipython3",
   "version": "3.11.5"
  }
 },
 "nbformat": 4,
 "nbformat_minor": 5
}
