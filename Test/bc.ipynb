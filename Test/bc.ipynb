{
 "cells": [
  {
   "cell_type": "code",
   "execution_count": 1,
   "id": "e3e74c6c",
   "metadata": {
    "lines_to_next_cell": 1
   },
   "outputs": [],
   "source": [
    "from hashlib import sha256\n",
    "import json\n",
    "from time import time\n",
    "from typing import List"
   ]
  },
  {
   "cell_type": "code",
   "execution_count": 2,
   "id": "e26745b2",
   "metadata": {
    "lines_to_next_cell": 1
   },
   "outputs": [],
   "source": [
    "class Block:\n",
    "    def __init__(self, index: int, previous_hash: str, timestamp: float, data: List[List[int]], nonce: int = 0):\n",
    "        self.index = index\n",
    "        self.previous_hash = previous_hash\n",
    "        self.timestamp = timestamp\n",
    "        self.data = data\n",
    "        self.nonce = nonce\n",
    "        self.hash = self.calculate_hash()\n",
    "\n",
    "    def calculate_hash(self) -> str:\n",
    "        block_string = f\"{self.index}{self.previous_hash}{self.timestamp}{json.dumps(self.data)}{self.nonce}\"\n",
    "        return sha256(block_string.encode()).hexdigest()"
   ]
  },
  {
   "cell_type": "code",
   "execution_count": 3,
   "id": "24f46816",
   "metadata": {
    "lines_to_next_cell": 1
   },
   "outputs": [],
   "source": [
    "class Blockchain:\n",
    "    def __init__(self):\n",
    "        self.chain = [self.create_genesis_block()]\n",
    "\n",
    "    def create_genesis_block(self) -> Block:\n",
    "        return Block(0, \"0\", time(), [[]])\n",
    "\n",
    "    def get_latest_block(self) -> Block:\n",
    "        return self.chain[-1]\n",
    "\n",
    "    def add_block(self, new_block: Block):\n",
    "        new_block.previous_hash = self.get_latest_block().hash\n",
    "        new_block.hash = new_block.calculate_hash()\n",
    "        self.chain.append(new_block)"
   ]
  },
  {
   "cell_type": "code",
   "execution_count": 4,
   "id": "52703b19",
   "metadata": {
    "lines_to_next_cell": 1
   },
   "outputs": [],
   "source": [
    "def multiply_matrices(a: List[List[int]], b: List[List[int]]) -> List[List[int]]:\n",
    "    result = [[0 for _ in range(len(b[0]))] for _ in range(len(a))]\n",
    "\n",
    "    for i in range(len(a)):\n",
    "        for j in range(len(b[0])):\n",
    "            for k in range(len(b)):\n",
    "                result[i][j] += a[i][k] * b[k][j]\n",
    "\n",
    "    return result"
   ]
  },
  {
   "cell_type": "code",
   "execution_count": 5,
   "id": "7f297aca",
   "metadata": {},
   "outputs": [],
   "source": [
    "# Initialize blockchain\n",
    "blockchain = Blockchain()"
   ]
  },
  {
   "cell_type": "code",
   "execution_count": 6,
   "id": "61477572",
   "metadata": {},
   "outputs": [],
   "source": [
    "# Example matrices for multiplication\n",
    "matrix_a = [[1, 2], [3, 4]]\n",
    "matrix_b = [[5, 6], [7, 8]]"
   ]
  },
  {
   "cell_type": "code",
   "execution_count": 7,
   "id": "2fb48a8f",
   "metadata": {},
   "outputs": [],
   "source": [
    "# Create a block for matrix multiplication\n",
    "latest_block = blockchain.get_latest_block()\n",
    "index = latest_block.index + 1\n",
    "timestamp = time()\n",
    "data = multiply_matrices(matrix_a, matrix_b)\n",
    "new_block = Block(index, latest_block.hash, timestamp, data)"
   ]
  },
  {
   "cell_type": "code",
   "execution_count": 8,
   "id": "5479a0ff",
   "metadata": {},
   "outputs": [],
   "source": [
    "# Add the block to the blockchain\n",
    "blockchain.add_block(new_block)"
   ]
  },
  {
   "cell_type": "code",
   "execution_count": 9,
   "id": "7703f428",
   "metadata": {},
   "outputs": [
    {
     "name": "stdout",
     "output_type": "stream",
     "text": [
      "Block #0, Hash: a2b5acf3a87447b0fc5b1722d41b85c8e7ff1e7dad49af12e77c76c64889fc46, Data: [[]]\n",
      "Block #1, Hash: 7a20cc7d36f68df866326438f4bab5da278c5d498543b7f29dbe5aa35b7588f5, Data: [[19, 22], [43, 50]]\n"
     ]
    }
   ],
   "source": [
    "# Print the blockchain\n",
    "for block in blockchain.chain:\n",
    "    print(f\"Block #{block.index}, Hash: {block.hash}, Data: {block.data}\")"
   ]
  }
 ],
 "metadata": {
  "jupytext": {
   "cell_metadata_filter": "-all",
   "main_language": "python",
   "notebook_metadata_filter": "-all"
  },
  "kernelspec": {
   "display_name": "base",
   "language": "python",
   "name": "python3"
  },
  "language_info": {
   "codemirror_mode": {
    "name": "ipython",
    "version": 3
   },
   "file_extension": ".py",
   "mimetype": "text/x-python",
   "name": "python",
   "nbconvert_exporter": "python",
   "pygments_lexer": "ipython3",
   "version": "3.11.5"
  }
 },
 "nbformat": 4,
 "nbformat_minor": 5
}
