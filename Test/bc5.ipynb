{
 "cells": [
  {
   "cell_type": "code",
   "execution_count": 1,
   "id": "f72a73ff",
   "metadata": {
    "lines_to_next_cell": 1
   },
   "outputs": [],
   "source": [
    "import hashlib\n",
    "import json\n",
    "import time  # Import the time module to work with timestamps and simulate network delays\n",
    "import numpy as np\n",
    "import random"
   ]
  },
  {
   "cell_type": "code",
   "execution_count": 2,
   "id": "ef07394b",
   "metadata": {},
   "outputs": [],
   "source": [
    "class Blockchain:\n",
    "    def __init__(self):\n",
    "        # Initialize the blockchain with an empty list for the chain and pending transactions\n",
    "        self.chain = []\n",
    "        self.pending_transactions = []  # Store transactions that have not yet been added to a block\n",
    "        # Create the genesis block (the first block in the chain) with a predefined previous hash\n",
    "        self.create_block(previous_hash='1', data='Genesis Block', method='sha256')\n",
    "\n",
    "\n",
    "    def create_block(self, data, previous_hash, method):\n",
    "        # Create a new block with given data, the hash of the previous block, and a specified hashing method\n",
    "        block = {\n",
    "            'index': len(self.chain) + 1,  # Block number in the chain\n",
    "            'timestamp': time.time(),  # Current timestamp\n",
    "            'data': data,  # Data to be stored in the block\n",
    "            'previous_hash': previous_hash,  # Hash of the previous block to maintain the chain's integrity\n",
    "        }\n",
    "        block['hash'] = self.hash(block, method)  # Generate the current block's hash\n",
    "        self.chain.append(block)  # Add the new block to the chain\n",
    "        self.send_to_central_server(block)  # Simulate sending the block to a centralized server\n",
    "        return block\n",
    "\n",
    "    def hash(self, block, method):\n",
    "        # Generate a hash of the block based on the specified method (SHA-256 or simulated homomorphic encryption)\n",
    "        encoded_block = json.dumps(block, sort_keys=True).encode()  # Convert the block into a string and encode it\n",
    "        if method == 'sha256':\n",
    "            return hashlib.sha256(encoded_block).hexdigest()  # Use SHA-256 hashing\n",
    "        elif method == 'he':  # Placeholder for homomorphic encryption\n",
    "            return \"he_\" + hashlib.sha256(encoded_block).hexdigest()  # Simulate HE by prefixing SHA-256 hash\n",
    "        else:\n",
    "            raise ValueError(\"Unsupported hashing method\")  # Raise an error if an unknown method is specified\n",
    "\n",
    "    def add_block(self, matrix1, matrix2):\n",
    "        # Add a block to the chain with the result of multiplying two matrices\n",
    "        previous_block = self.chain[-1]  # Get the last block in the chain\n",
    "        result_matrix = np.dot(matrix1, matrix2).tolist()  # Perform matrix multiplication and convert the result to a list\n",
    "        start_time = time.time()  # Record the start time for adding the block\n",
    "        method = 'sha256' if (len(self.chain) + 1) % 2 == 0 else 'he'  # Alternate between SHA-256 and HE for demonstration\n",
    "        block = self.create_block(data=result_matrix, previous_hash=previous_block['hash'], method=method)\n",
    "        end_time = time.time()  # Record the end time for adding the block\n",
    "        return block, end_time - start_time  # Return the new block and the time taken to add it\n",
    "\n",
    "    @staticmethod\n",
    "    def send_to_central_server(block):\n",
    "        # Simulate sending a block to a centralized server\n",
    "        print(f\"Sending block {block['index']} to the central server with hash {block['hash'][:6]}...\")\n",
    "        time.sleep(1)  # Simulate a network delay\n",
    "        print(f\"Block {block['index']} received by the central server.\")\n",
    "    \n",
    "    def validate_chain(self):\n",
    "        # Validate the integrity of the entire blockchain\n",
    "        for i in range(1, len(self.chain)):\n",
    "            current_block = self.chain[i]  # Current block being validated\n",
    "            previous_block = self.chain[i-1]  # Previous block in the chain\n",
    "            # Check if the previous_hash recorded in the current block matches the hash of the previous block\n",
    "            if current_block['previous_hash'] != self.hash(previous_block, previous_block.get('method', 'sha256')):\n",
    "                return f\"Chain is altered at block index {i}\"  # Report alteration if there's a mismatch\n",
    "            # Verify the current block's hash is accurate based on its content and method\n",
    "            if current_block['hash'] != self.hash(current_block, current_block.get('method', 'sha256')):\n",
    "                return f\"Chain is altered at block index {i}\"\n",
    "        return \"The chain is valid.\"  # Return a message indicating the chain is valid if no alterations are found"
   ]
  },
  {
   "cell_type": "code",
   "execution_count": 3,
   "id": "6d363257",
   "metadata": {},
   "outputs": [
    {
     "name": "stdout",
     "output_type": "stream",
     "text": [
      "Sending block 1 to the central server with hash c95714...\n",
      "Block 1 received by the central server.\n"
     ]
    }
   ],
   "source": [
    "# Example usage\n",
    "blockchain = Blockchain()"
   ]
  },
  {
   "cell_type": "code",
   "execution_count": 4,
   "id": "4e75d356",
   "metadata": {},
   "outputs": [],
   "source": [
    "# Define two 2x2 matrices\n",
    "matrix1 = np.array([[1, 2], [3, 4]])\n",
    "matrix2 = np.array([[5, 6], [7, 8]])"
   ]
  },
  {
   "cell_type": "code",
   "execution_count": 5,
   "id": "0a509a2d",
   "metadata": {},
   "outputs": [
    {
     "name": "stdout",
     "output_type": "stream",
     "text": [
      "Sending block 2 to the central server with hash 840d16...\n",
      "Block 2 received by the central server.\n",
      "Block 1 added in 1.0007977485656738 seconds\n",
      "{\n",
      "    \"data\": [\n",
      "        [\n",
      "            19,\n",
      "            22\n",
      "        ],\n",
      "        [\n",
      "            43,\n",
      "            50\n",
      "        ]\n",
      "    ],\n",
      "    \"hash\": \"840d1615f34ffa49707c7b76394f16cff171995ff08f81609753e35661102c77\",\n",
      "    \"index\": 2,\n",
      "    \"previous_hash\": \"c957145fc147f5a90776b8e7703d9bf3a75f92c9030906bc85fdd017af077480\",\n",
      "    \"timestamp\": 1709757559.9355433\n",
      "}\n"
     ]
    }
   ],
   "source": [
    "# Add blocks with matrix multiplication results\n",
    "block1, time1 = blockchain.add_block(matrix1, matrix2)\n",
    "print(f\"Block 1 added in {time1} seconds\")\n",
    "print(json.dumps(block1, indent=4, sort_keys=True))"
   ]
  },
  {
   "cell_type": "code",
   "execution_count": 6,
   "id": "fffedb0b",
   "metadata": {},
   "outputs": [
    {
     "name": "stdout",
     "output_type": "stream",
     "text": [
      "Sending block 3 to the central server with hash he_0db...\n",
      "Block 3 received by the central server.\n",
      "Block 2 added in 1.000504970550537 seconds\n",
      "{\n",
      "    \"data\": [\n",
      "        [\n",
      "            19,\n",
      "            22\n",
      "        ],\n",
      "        [\n",
      "            43,\n",
      "            50\n",
      "        ]\n",
      "    ],\n",
      "    \"hash\": \"he_0db3251654202f884888ce95d5f7f63a408093bbcf8aff61c6c4c0fa1a644768\",\n",
      "    \"index\": 3,\n",
      "    \"previous_hash\": \"840d1615f34ffa49707c7b76394f16cff171995ff08f81609753e35661102c77\",\n",
      "    \"timestamp\": 1709757563.7672582\n",
      "}\n"
     ]
    }
   ],
   "source": [
    "block2, time2 = blockchain.add_block(matrix1, matrix2)\n",
    "print(f\"Block 2 added in {time2} seconds\")\n",
    "print(json.dumps(block2, indent=4, sort_keys=True))"
   ]
  },
  {
   "cell_type": "code",
   "execution_count": 7,
   "id": "8b7266ab",
   "metadata": {},
   "outputs": [
    {
     "name": "stdout",
     "output_type": "stream",
     "text": [
      "Chain is altered at block index 1\n"
     ]
    }
   ],
   "source": [
    "# Validate the blockchain before any tampering\n",
    "print(blockchain.validate_chain())"
   ]
  },
  {
   "cell_type": "code",
   "execution_count": 8,
   "id": "94213414",
   "metadata": {},
   "outputs": [],
   "source": [
    "# Simulate tampering\n",
    "blockchain.chain[1]['data'] = \"Tampered Data\""
   ]
  },
  {
   "cell_type": "code",
   "execution_count": 9,
   "id": "9ab98a9b",
   "metadata": {},
   "outputs": [
    {
     "name": "stdout",
     "output_type": "stream",
     "text": [
      "Chain is altered at block index 1\n"
     ]
    }
   ],
   "source": [
    "# Validate the blockchain after tampering\n",
    "print(blockchain.validate_chain())"
   ]
  }
 ],
 "metadata": {
  "jupytext": {
   "cell_metadata_filter": "-all",
   "main_language": "python",
   "notebook_metadata_filter": "-all"
  },
  "kernelspec": {
   "display_name": "base",
   "language": "python",
   "name": "python3"
  },
  "language_info": {
   "codemirror_mode": {
    "name": "ipython",
    "version": 3
   },
   "file_extension": ".py",
   "mimetype": "text/x-python",
   "name": "python",
   "nbconvert_exporter": "python",
   "pygments_lexer": "ipython3",
   "version": "3.11.5"
  }
 },
 "nbformat": 4,
 "nbformat_minor": 5
}
