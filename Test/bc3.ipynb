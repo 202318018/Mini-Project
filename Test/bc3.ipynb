{
 "cells": [
  {
   "cell_type": "code",
   "execution_count": 1,
   "id": "e49fe59d",
   "metadata": {
    "lines_to_next_cell": 1
   },
   "outputs": [],
   "source": [
    "import hashlib\n",
    "import json\n",
    "from time import time\n",
    "from bc4 import display_chain, matrix_multiply"
   ]
  },
  {
   "cell_type": "code",
   "execution_count": 2,
   "id": "244f32bc",
   "metadata": {
    "lines_to_next_cell": 1
   },
   "outputs": [],
   "source": [
    "class Block:\n",
    "    def __init__(self, index, previous_hash, timestamp, data, hash_algorithm, hash_value):\n",
    "        self.index = index\n",
    "        self.previous_hash = previous_hash\n",
    "        self.timestamp = timestamp\n",
    "        self.data = data\n",
    "        self.hash_algorithm = hash_algorithm\n",
    "        self.hash_value = hash_value"
   ]
  },
  {
   "cell_type": "code",
   "execution_count": 3,
   "id": "1507094a",
   "metadata": {
    "lines_to_next_cell": 1
   },
   "outputs": [],
   "source": [
    "def calculate_hash(index, previous_hash, timestamp, data, hash_algorithm=\"sha256\"):\n",
    "    value = str(index) + str(previous_hash) + str(timestamp) + json.dumps(data, sort_keys=True)\n",
    "    \n",
    "    if hash_algorithm == \"sha256\":\n",
    "        return hashlib.sha256(value.encode()).hexdigest()\n",
    "    elif hash_algorithm == \"sha512\":\n",
    "        return hashlib.sha512(value.encode()).hexdigest()\n",
    "    elif hash_algorithm == \"sha128\":\n",
    "        return hashlib.sha1(value.encode()).hexdigest()\n",
    "    else:\n",
    "        raise ValueError(\"Invalid hash algorithm\")"
   ]
  },
  {
   "cell_type": "code",
   "execution_count": 4,
   "id": "791a36e3",
   "metadata": {
    "lines_to_next_cell": 1
   },
   "outputs": [],
   "source": [
    "def create_genesis_block():\n",
    "    hash_algorithm = \"sha256\"\n",
    "    hash_value = calculate_hash(0, \"0\", time(), {\"matrix\": None, \"result\": None}, hash_algorithm)\n",
    "    return Block(0, \"0\", time(), {\"matrix\": None, \"result\": None}, hash_algorithm, hash_value)"
   ]
  },
  {
   "cell_type": "code",
   "execution_count": 5,
   "id": "d255c745",
   "metadata": {
    "lines_to_next_cell": 1
   },
   "outputs": [],
   "source": [
    "def create_block(index, previous_hash, data, hash_algorithm=\"sha256\"):\n",
    "    timestamp = time()\n",
    "    hash_value = calculate_hash(index, previous_hash, timestamp, data, hash_algorithm)\n",
    "    return Block(index, previous_hash, timestamp, data, hash_algorithm, hash_value)\n",
    "def matrix_multiply(a, b):\n",
    "    result = [[sum(i*j for i, j in zip(row, col)) for col in zip(*b)] for row in a]\n",
    "    return result"
   ]
  },
  {
   "cell_type": "code",
   "execution_count": 6,
   "id": "9c501f15",
   "metadata": {
    "lines_to_next_cell": 1
   },
   "outputs": [],
   "source": [
    "def add_block_to_chain(chain, block):\n",
    "    chain.append(block)"
   ]
  },
  {
   "cell_type": "code",
   "execution_count": 7,
   "id": "bf6ced56",
   "metadata": {
    "lines_to_next_cell": 1
   },
   "outputs": [],
   "source": [
    "def display_chain(chain):\n",
    "    for block in chain:\n",
    "        print(\"Index:\", block.index)\n",
    "        print(\"Previous Hash:\", block.previous_hash)\n",
    "        print(\"Timestamp:\", block.timestamp)\n",
    "        print(\"Data:\", block.data)\n",
    "        print(\"Hash Algorithm:\", block.hash_algorithm)\n",
    "        print(\"Hash Value:\", block.hash_value)  # Corrected line\n",
    "        print(\"\\n\")"
   ]
  },
  {
   "cell_type": "code",
   "execution_count": 8,
   "id": "331db4a1",
   "metadata": {},
   "outputs": [
    {
     "name": "stdout",
     "output_type": "stream",
     "text": [
      "Index: 0\n",
      "Previous Hash: 0\n",
      "Timestamp: 1709757527.3810182\n",
      "Data: {'matrix': None, 'result': None}\n",
      "Hash Algorithm: sha256\n",
      "Hash Value: 9f632cacd23ecb53689dde85e7d92190b55e61a3d0a3d38b54857d342c9a8d28\n",
      "\n",
      "\n",
      "Index: 1\n",
      "Previous Hash: 9f632cacd23ecb53689dde85e7d92190b55e61a3d0a3d38b54857d342c9a8d28\n",
      "Timestamp: 1709757527.3810182\n",
      "Data: {'matrix': [[19, 22], [43, 50]], 'result': None}\n",
      "Hash Algorithm: sha256\n",
      "Hash Value: 22d4cb77ac10cff09b5be8ff843763e3a337c6c8587944e656403d8c4c63e6cb\n",
      "\n",
      "\n",
      "Index: 2\n",
      "Previous Hash: 22d4cb77ac10cff09b5be8ff843763e3a337c6c8587944e656403d8c4c63e6cb\n",
      "Timestamp: 1709757527.3810182\n",
      "Data: {'matrix': [[267, 286], [323, 346]], 'result': None}\n",
      "Hash Algorithm: sha512\n",
      "Hash Value: d106133bb11f6c4e1fcfa349f0ef70ad8a48297b0230a79ff5bca752a44e8b2c2e58acb7d02fad610472e998570f7ffb84479a4457ed4e997eb75685bec18c34\n",
      "\n",
      "\n",
      "Index: 3\n",
      "Previous Hash: d106133bb11f6c4e1fcfa349f0ef70ad8a48297b0230a79ff5bca752a44e8b2c2e58acb7d02fad610472e998570f7ffb84479a4457ed4e997eb75685bec18c34\n",
      "Timestamp: 1709757527.3810182\n",
      "Data: {'matrix': [[306, 208], [173, 76]], 'result': None}\n",
      "Hash Algorithm: sha128\n",
      "Hash Value: 73c44813393e48456f3661223174a08fa59c8053\n",
      "\n",
      "\n",
      "Index: 4\n",
      "Previous Hash: 73c44813393e48456f3661223174a08fa59c8053\n",
      "Timestamp: 1709757527.3810182\n",
      "Data: {'matrix': [[16, 68], [5, 16]], 'result': None}\n",
      "Hash Algorithm: sha256\n",
      "Hash Value: d8272f20f47fc10202fc53477bfa719c3b53a131a166f1a6d3d49c0e72cd5f9a\n",
      "\n",
      "\n"
     ]
    }
   ],
   "source": [
    "if __name__ == \"__main__\":\n",
    "       blockchain = [create_genesis_block()]\n",
    "\n",
    "    # Sample matrices for the first multiplication\n",
    "       matrix_a = [[1, 2], [3, 4]]\n",
    "       matrix_b = [[5, 6], [7, 8]]\n",
    "\n",
    "    # Perform the first matrix multiplication and add the result to the blockchain\n",
    "       result_matrix = matrix_multiply(matrix_a, matrix_b)\n",
    "       block_data = {\"matrix\": result_matrix, \"result\": None}\n",
    "       new_block1 = create_block(blockchain[-1].index + 1, blockchain[-1].hash_value, block_data, hash_algorithm=\"sha256\")\n",
    "       add_block_to_chain(blockchain, new_block1)\n",
    "\n",
    "    # Sample matrices for the second multiplication (different matrices)\n",
    "       matrix_a2 = [[9, 10], [11, 12]]\n",
    "       matrix_b2 = [[13, 14], [15, 16]]\n",
    "\n",
    "    # Perform the second matrix multiplication and add the result to the blockchain\n",
    "       result_matrix2 = matrix_multiply(matrix_a2, matrix_b2)\n",
    "       block_data2 = {\"matrix\": result_matrix2, \"result\": None}\n",
    "       new_block2 = create_block(blockchain[-1].index + 1, new_block1.hash_value, block_data2, hash_algorithm=\"sha512\")\n",
    "       add_block_to_chain(blockchain, new_block2)\n",
    "\n",
    "    # Sample matrices for the third multiplication\n",
    "       matrix_a3 = [[12, 10], [11, 2]]\n",
    "       matrix_b3 = [[13, 4], [15, 16]]\n",
    "\n",
    "    # Perform the third matrix multiplication and add the result to the blockchain\n",
    "       result_matrix3 = matrix_multiply(matrix_a3, matrix_b3)\n",
    "       block_data3 = {\"matrix\": result_matrix3, \"result\": None}\n",
    "       new_block3 = create_block(blockchain[-1].index + 1, new_block2.hash_value, block_data3, hash_algorithm=\"sha128\")\n",
    "       add_block_to_chain(blockchain, new_block3)\n",
    "\n",
    "    # Sample matrices for the fourth multiplication\n",
    "       matrix_a4 = [[2, 10], [1, 2]]\n",
    "       matrix_b4 = [[3, 4], [1, 6]]\n",
    "\n",
    "    # Perform the fourth matrix multiplication and add the result to the blockchain\n",
    "       result_matrix4 = matrix_multiply(matrix_a4, matrix_b4)\n",
    "       block_data4 = {\"matrix\": result_matrix4, \"result\": None}\n",
    "       new_block4 = create_block(blockchain[-1].index + 1, new_block3.hash_value, block_data4, hash_algorithm=\"sha256\")\n",
    "       add_block_to_chain(blockchain, new_block4)\n",
    "\n",
    "    # Display the blockchain after the second multiplication\n",
    "       display_chain(blockchain)"
   ]
  }
 ],
 "metadata": {
  "jupytext": {
   "cell_metadata_filter": "-all",
   "main_language": "python",
   "notebook_metadata_filter": "-all"
  },
  "kernelspec": {
   "display_name": "base",
   "language": "python",
   "name": "python3"
  },
  "language_info": {
   "codemirror_mode": {
    "name": "ipython",
    "version": 3
   },
   "file_extension": ".py",
   "mimetype": "text/x-python",
   "name": "python",
   "nbconvert_exporter": "python",
   "pygments_lexer": "ipython3",
   "version": "3.11.5"
  }
 },
 "nbformat": 4,
 "nbformat_minor": 5
}
